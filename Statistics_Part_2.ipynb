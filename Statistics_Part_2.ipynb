{
  "nbformat": 4,
  "nbformat_minor": 0,
  "metadata": {
    "colab": {
      "provenance": []
    },
    "kernelspec": {
      "name": "python3",
      "display_name": "Python 3"
    },
    "language_info": {
      "name": "python"
    }
  },
  "cells": [
    {
      "cell_type": "markdown",
      "source": [
        "Statistics Part **2**"
      ],
      "metadata": {
        "id": "aAHUAvHvWOUM"
      }
    },
    {
      "cell_type": "markdown",
      "source": [
        "1. Write a Python program to perform a Z-test for comparing a sample mean to a known population mean and\n",
        "interpret the results."
      ],
      "metadata": {
        "id": "R_NCP3jRWYFq"
      }
    },
    {
      "cell_type": "code",
      "source": [
        "import numpy as np\n",
        "from scipy import stats\n",
        "\n",
        "# Given values\n",
        "sample_mean = 25.5  # Sample mean\n",
        "population_mean = 24.0  # Known population mean\n",
        "population_std = 3.5  # Known population standard deviation\n",
        "sample_size = 36  # Sample size\n",
        "\n",
        "# Calculate the standard error\n",
        "std_error = population_std / np.sqrt(sample_size)\n",
        "\n",
        "# Calculate the Z-score\n",
        "z_score = (sample_mean - population_mean) / std_error\n",
        "\n",
        "# Calculate the P-value (two-tailed test)\n",
        "p_value = 2 * (1 - stats.norm.cdf(abs(z_score)))\n",
        "\n",
        "# Print the results\n",
        "print(f\"Z-score: {z_score:.4f}\")\n",
        "print(f\"P-value: {p_value:.4f}\")\n",
        "\n",
        "# Interpret the results\n",
        "alpha = 0.05  # Significance level\n",
        "if p_value < alpha:\n",
        " print(\"Reject the null hypothesis. The sample mean is significantly different from the population mean.\")\n",
        "else:\n",
        " print(\"Fail to reject the null hypothesis. The sample mean is not significantly different from the population mean.\")\n"
      ],
      "metadata": {
        "id": "9YRD66ZgW1sF"
      },
      "execution_count": null,
      "outputs": []
    },
    {
      "cell_type": "markdown",
      "source": [
        "2. Simulate random data to perform hypothesis testing and calculate the corresponding P-value using Python."
      ],
      "metadata": {
        "id": "g5dD8APlXJVr"
      }
    },
    {
      "cell_type": "code",
      "source": [
        "import numpy as np\n",
        "from scipy import stats\n",
        "import matplotlib.pyplot as plt\n",
        "\n",
        "# Set seed for reproducibility\n",
        "np.random.seed(0)\n",
        "\n",
        "# Simulate two groups of random data (e.g., treatment and control)\n",
        "group1 = np.random.normal(loc=20, scale=3, size=100)  # Treatment group\n",
        "group2 = np.random.normal(loc=20, scale=3, size=100)  # Control group\n",
        "\n",
        "# Perform two-sample t-test\n",
        "t_stat, p_value = stats.ttest_ind(group1, group2)\n",
        "\n",
        "# Print the results\n",
        "print(f\"T-statistic: {t_stat:.4f}\")\n",
        "print(f\"P-value: {p_value:.4f}\")\n",
        "\n",
        "# Interpret the results\n",
        "alpha = 0.05  # Significance level\n",
        "if p_value < alpha:\n",
        " print(\"Reject the null hypothesis. The means of the two groups are significantly different.\")\n",
        "else:\n",
        " print(\"Fail to reject the null hypothesis. The means of the two groups are not significantly different.\")\n",
        "\n",
        "# Visualize the data\n",
        "plt.hist(group1, alpha=0.5, label='Group 1')\n",
        "plt.hist(group2, alpha=0.5, label='Group 2')\n",
        "plt.legend()\n",
        "plt.show()\n",
        "\n"
      ],
      "metadata": {
        "id": "CvpGMWOAXZc2"
      },
      "execution_count": null,
      "outputs": []
    },
    {
      "cell_type": "markdown",
      "source": [
        "3. Implement a one-sample Z-test using Python to compare the sample mean with the population mean."
      ],
      "metadata": {
        "id": "-ME5zXJ9XuoC"
      }
    },
    {
      "cell_type": "code",
      "source": [
        "import numpy as np\n",
        "from scipy import stats\n",
        "\n",
        "# Given values\n",
        "sample = np.array([23, 21, 19, 24, 20, 22, 18, 25, 19, 21])  # Sample data\n",
        "population_mean = 20.5  # Known population mean\n",
        "population_std = 2.5  # Known population standard deviation\n",
        "\n",
        "# Calculate sample mean and size\n",
        "sample_mean = np.mean(sample)\n",
        "sample_size = len(sample)\n",
        "\n",
        "# Calculate standard error\n",
        "std_error = population_std / np.sqrt(sample_size)\n",
        "\n",
        "# Calculate Z-score\n",
        "z_score = (sample_mean - population_mean) / std_error\n",
        "\n",
        "# Calculate P-value (two-tailed test)\n",
        "p_value = 2 * (1 - stats.norm.cdf(abs(z_score)))\n",
        "\n",
        "# Print the results\n",
        "print(f\"Sample Mean: {sample_mean:.4f}\")\n",
        "print(f\"Z-score: {z_score:.4f}\")\n",
        "print(f\"P-value: {p_value:.4f}\")\n",
        "\n",
        "# Interpret the results\n",
        "alpha = 0.05  # Significance level\n",
        "if p_value < alpha:\n",
        " print(\"Reject the null hypothesis. The sample mean is significantly different from the population mean.\")\n",
        "else:\n",
        " print(\"Fail to reject the null hypothesis. The sample mean is not significantly different from the population mean.\")\n"
      ],
      "metadata": {
        "id": "xjvT5YjOX2fQ"
      },
      "execution_count": null,
      "outputs": []
    },
    {
      "cell_type": "markdown",
      "source": [
        "4. Perform a two-tailed Z-test using Python and visualize the decision region on a plot."
      ],
      "metadata": {
        "id": "XZJqVpmXYZ9Z"
      }
    },
    {
      "cell_type": "code",
      "source": [
        "import numpy as np\n",
        "from scipy import stats\n",
        "import matplotlib.pyplot as plt\n",
        "\n",
        "# Given values\n",
        "sample_mean = 25.5  # Sample mean\n",
        "population_mean = 24.0  # Known population mean\n",
        "population_std = 3.5  # Known population standard deviation\n",
        "sample_size = 36  # Sample size\n",
        "alpha = 0.05  # Significance level\n",
        "\n",
        "# Calculate standard error\n",
        "std_error = population_std / np.sqrt(sample_size)\n",
        "\n",
        "# Calculate Z-score\n",
        "z_score = (sample_mean - population_mean) / std_error\n",
        "\n",
        "# Calculate critical Z-values for two-tailed test\n",
        "critical_z = stats.norm.ppf(1 - alpha / 2)\n",
        "\n",
        "# Calculate P-value (two-tailed test)\n",
        "p_value = 2 * (1 - stats.norm.cdf(abs(z_score)))\n",
        "\n",
        "# Print the results\n",
        "print(f\"Z-score: {z_score:.4f}\")\n",
        "print(f\"P-value: {p_value:.4f}\")\n",
        "\n",
        "# Interpret the results\n",
        "if p_value < alpha:\n",
        " print(\"Reject the null hypothesis. The sample mean is significantly different from the population mean.\")\n",
        "else:\n",
        " print(\"Fail to reject the null hypothesis. The sample mean is not significantly different from the population mean.\")\n",
        "\n",
        "# Visualize the decision region\n",
        "x = np.linspace(-3, 3, 100)\n",
        "y = stats.norm.pdf(x)\n",
        "\n",
        "plt.plot(x, y)\n",
        "plt.fill_between(x, y, where=(x < -critical_z) | (x > critical_z), alpha=0.5, label='Rejection Region')\n",
        "plt.axvline(x=-critical_z, color='red', linestyle='--', label='Critical Value')\n",
        "plt.axvline(x=critical_z, color='red', linestyle='--')\n",
        "plt.axvline(x=z_score, color='green', label='Observed Z-score')\n",
        "plt.legend()\n",
        "plt.show()\n",
        "\n",
        "\n"
      ],
      "metadata": {
        "id": "vBQlrqofYe0J"
      },
      "execution_count": null,
      "outputs": []
    },
    {
      "cell_type": "markdown",
      "source": [
        "5. Create a Python function that calculates and visualizes Type 1 and Type 2 errors during hypothesis testing."
      ],
      "metadata": {
        "id": "cHWGZLK6ZCS7"
      }
    },
    {
      "cell_type": "code",
      "source": [
        "import numpy as np\n",
        "from scipy import stats\n",
        "import matplotlib.pyplot as plt\n",
        "\n",
        "def calculate_errors(alpha, beta, mu0, mu1, sigma, n):\n",
        " # Calculate critical value for Type 1 error\n",
        " critical_value = stats.norm.ppf(1 - alpha, loc=mu0, scale=sigma / np.sqrt(n))\n",
        "\n",
        " # Calculate Type 1 error (alpha)\n",
        " type1_error = alpha\n",
        "\n",
        " # Calculate Type 2 error (beta)\n",
        " type2_error = stats.norm.cdf(critical_value, loc=mu1, scale=sigma / np.sqrt(n))\n",
        "\n",
        " return type1_error, type2_error\n",
        "\n",
        "def visualize_errors(alpha, beta, mu0, mu1, sigma, n):\n",
        " # Calculate critical value\n",
        " critical_value = stats.norm.ppf(1 - alpha, loc=mu0, scale=sigma / np.sqrt(n))\n",
        "\n",
        " # Generate x values for plotting\n",
        " x = np.linspace(mu0 - 3 * sigma / np.sqrt(n), mu1 + 3 * sigma / np.sqrt(n), 100)\n",
        "\n",
        " # Plot null hypothesis distribution\n",
        " y0 = stats.norm.pdf(x, loc=mu0, scale=sigma / np.sqrt(n))\n",
        " plt.plot(x, y0, label='Null Hypothesis')\n",
        "\n",
        " # Plot alternative hypothesis distribution\n",
        " y1 = stats.norm.pdf(x, loc=mu1, scale=sigma / np.sqrt(n))\n",
        " plt.plot(x, y1, label='Alternative Hypothesis')\n",
        "\n",
        " # Shade Type 1 error region\n",
        " plt.fill_between(x, y0, where=(x > critical_value), alpha=0.5, label='Type 1 Error')\n",
        "\n",
        " # Shade Type 2 error region\n",
        " plt.fill_between(x, y1, where=(x < critical_value), alpha=0.5, label='Type 2 Error')\n",
        "\n",
        " plt.axvline(x=critical_value, color='red', linestyle='--', label='Critical Value')\n",
        " plt.legend()\n",
        " plt.show()\n",
        "\n",
        "# Example usage\n",
        "alpha = 0.05  # Significance level\n",
        "beta = 0.2  # Power of the test\n",
        "mu0 = 0  # Mean under null hypothesis\n",
        "mu1 = 1  # Mean under alternative hypothesis\n",
        "sigma = 1  # Standard deviation\n",
        "n = 100  # Sample size\n",
        "\n",
        "type1_error, type2_error = calculate_errors(alpha, beta, mu0, mu1, sigma, n)\n",
        "print(f\"Type 1 Error: {type1_error:.4f}\")\n",
        "print(f\"Type 2 Error: {type2_error:.4f}\")\n",
        "\n",
        "visualize_errors(alpha, beta, mu0, mu1, sigma, n)\n",
        "\n"
      ],
      "metadata": {
        "id": "SYwGqREvZMxY"
      },
      "execution_count": null,
      "outputs": []
    },
    {
      "cell_type": "markdown",
      "source": [
        "6. Write a Python program to perform an independent T-test and interpret the results."
      ],
      "metadata": {
        "id": "biJbfZacZvPH"
      }
    },
    {
      "cell_type": "code",
      "source": [
        "import numpy as np\n",
        "from scipy import stats\n",
        "\n",
        "# Sample data for two groups\n",
        "group1 = np.array([23, 21, 19, 24, 20, 22, 18, 25, 19, 21])\n",
        "group2 = np.array([20, 18, 16, 22, 17, 19, 15, 21, 16, 18])\n",
        "\n",
        "# Perform independent T-test\n",
        "t_stat, p_value = stats.ttest_ind(group1, group2)\n",
        "\n",
        "# Print the results\n",
        "print(f\"T-statistic: {t_stat:.4f}\")\n",
        "print(f\"P-value: {p_value:.4f}\")\n",
        "\n",
        "# Interpret the results\n",
        "alpha = 0.05  # Significance level\n",
        "if p_value < alpha:\n",
        " print(\"Reject the null hypothesis. The means of the two groups are significantly different.\")\n",
        "else:\n",
        " print(\"Fail to reject the null hypothesis. The means of the two groups are not significantly different.\")\n"
      ],
      "metadata": {
        "id": "EGYtFVIgZ1fa"
      },
      "execution_count": null,
      "outputs": []
    },
    {
      "cell_type": "markdown",
      "source": [
        "7. Perform a paired sample T-test using Python and visualize the comparison results."
      ],
      "metadata": {
        "id": "zvcZMZzNZ_tr"
      }
    },
    {
      "cell_type": "code",
      "source": [
        "import numpy as np\n",
        "from scipy import stats\n",
        "import matplotlib.pyplot as plt\n",
        "\n",
        "# Sample data (before and after treatment)\n",
        "before = np.array([23, 21, 19, 24, 20, 22, 18, 25, 19, 21])\n",
        "after = np.array([20, 18, 16, 22, 17, 19, 15, 21, 16, 18])\n",
        "\n",
        "# Perform paired sample T-test\n",
        "t_stat, p_value = stats.ttest_rel(before, after)\n",
        "\n",
        "# Print the results\n",
        "print(f\"T-statistic: {t_stat:.4f}\")\n",
        "print(f\"P-value: {p_value:.4f}\")\n",
        "\n",
        "# Interpret the results\n",
        "alpha = 0.05  # Significance level\n",
        "if p_value < alpha:\n",
        " print(\"Reject the null hypothesis. The means are significantly different.\")\n",
        "else:\n",
        " print(\"Fail to reject the null hypothesis. The means are not significantly different.\")\n",
        "\n",
        "# Visualize the comparison results\n",
        "plt.figure(figsize=(10, 6))\n",
        "\n",
        "# Plot before and after treatment values\n",
        "plt.plot(before, label='Before', marker='o')\n",
        "plt.plot(after, label='After', marker='o')\n",
        "\n",
        "# Plot lines connecting before and after values\n",
        "for i in range(len(before)):\n",
        " plt.plot([i, i], [before[i], after[i]], color='gray', linestyle='--')\n",
        "\n",
        "plt.xlabel('Subject')\n",
        "plt.ylabel('Value')\n",
        "plt.title('Before and After Treatment Comparison')\n",
        "plt.legend()\n",
        "plt.show()\n",
        "\n",
        "# Calculate and plot mean difference\n",
        "mean_before = np.mean(before)\n",
        "mean_after = np.mean(after)\n",
        "plt.bar(['Before', 'After'], [mean_before, mean_after])\n",
        "plt.xlabel('Group')\n",
        "plt.ylabel('Mean Value')\n",
        "plt.title('Mean Comparison')\n",
        "plt.show()\n",
        "\n"
      ],
      "metadata": {
        "id": "iuI8wQAgaLgP"
      },
      "execution_count": null,
      "outputs": []
    },
    {
      "cell_type": "markdown",
      "source": [
        "8. Simulate data and perform both Z-test and T-test, then compare the results using Python."
      ],
      "metadata": {
        "id": "QtJa7NNcaqjv"
      }
    },
    {
      "cell_type": "code",
      "source": [
        "import numpy as np\n",
        "from scipy import stats\n",
        "import matplotlib.pyplot as plt\n",
        "\n",
        "# Set seed for reproducibility\n",
        "np.random.seed(0)\n",
        "\n",
        "# Simulate data\n",
        "population_mean = 20\n",
        "population_std = 3\n",
        "sample_size = 30\n",
        "sample = np.random.normal(loc=population_mean, scale=population_std, size=sample_size)\n",
        "\n",
        "# Calculate sample mean and standard deviation\n",
        "sample_mean = np.mean(sample)\n",
        "sample_std = np.std(sample)\n",
        "\n",
        "# Perform Z-test\n",
        "z_score = (sample_mean - population_mean) / (population_std / np.sqrt(sample_size))\n",
        "p_value_z = 2 * (1 - stats.norm.cdf(abs(z_score)))\n",
        "\n",
        "# Perform T-test\n",
        "t_stat, p_value_t = stats.ttest_1samp(sample, population_mean)\n",
        "\n",
        "# Print the results\n",
        "print(f\"Sample Mean: {sample_mean:.4f}\")\n",
        "print(f\"Z-test: Z-score = {z_score:.4f}, P-value = {p_value_z:.4f}\")\n",
        "print(f\"T-test: T-statistic = {t_stat:.4f}, P-value = {p_value_t:.4f}\")\n",
        "\n",
        "# Compare the results\n",
        "alpha = 0.05\n",
        "if p_value_z < alpha:\n",
        " print(\"Z-test: Reject the null hypothesis.\")\n",
        "else:\n",
        " print(\"Z-test: Fail to reject the null hypothesis.\")\n",
        "\n",
        "if p_value_t < alpha:\n",
        " print(\"T-test: Reject the null hypothesis.\")\n",
        "else:\n",
        " print(\"T-test: Fail to reject the null hypothesis.\")\n",
        "\n",
        "# Visualize the data\n",
        "plt.hist(sample, alpha=0.5, label='Sample Data')\n",
        "plt.axvline(x=population_mean, color='red', label='Population Mean')\n",
        "plt.axvline(x=sample_mean, color='green', label='Sample Mean')\n",
        "plt.legend()\n",
        "plt.show()\n",
        "\n",
        "\n"
      ],
      "metadata": {
        "id": "7vgRPvpFayj5"
      },
      "execution_count": null,
      "outputs": []
    },
    {
      "cell_type": "markdown",
      "source": [
        "9. Write a Python function to calculate the confidence interval for a sample mean and explain its significance."
      ],
      "metadata": {
        "id": "KsTdMoe9bHfL"
      }
    },
    {
      "cell_type": "code",
      "source": [
        "import numpy as np\n",
        "from scipy import stats\n",
        "\n",
        "def calculate_confidence_interval(sample, confidence_level=0.95):\n",
        " # Calculate sample mean and standard deviation\n",
        " sample_mean = np.mean(sample)\n",
        " sample_std = np.std(sample, ddof=1)  # Use sample standard deviation (Bessel's correction)\n",
        " n = len(sample)\n",
        "\n",
        " # Calculate standard error\n",
        " std_error = sample_std / np.sqrt(n)\n",
        "\n",
        " # Calculate critical value (t-distribution)\n",
        " critical_value = stats.t.ppf((1 + confidence_level) / 2, df=n - 1)\n",
        "\n",
        " # Calculate margin of error\n",
        " margin_of_error = critical_value * std_error\n",
        "\n",
        " # Calculate confidence interval\n",
        " lower_bound = sample_mean - margin_of_error\n",
        " upper_bound = sample_mean + margin_of_error\n",
        "\n",
        " return lower_bound, upper_bound\n",
        "\n",
        "# Example usage\n",
        "sample = np.array([23, 21, 19, 24, 20, 22, 18, 25, 19, 21])\n",
        "confidence_level = 0.95\n",
        "lower_bound, upper_bound = calculate_confidence_interval(sample, confidence_level)\n",
        "print(f\"{confidence_level*100}% Confidence Interval: ({lower_bound:.4f}, {upper_bound:.4f})\")\n"
      ],
      "metadata": {
        "id": "hTX5FagbbRJ5"
      },
      "execution_count": null,
      "outputs": []
    },
    {
      "cell_type": "markdown",
      "source": [
        "10. Write a Python program to calculate the margin of error for a given confidence level using sample data."
      ],
      "metadata": {
        "id": "U_eojQ-Bbkb8"
      }
    },
    {
      "cell_type": "code",
      "source": [
        "import numpy as np\n",
        "from scipy import stats\n",
        "\n",
        "def calculate_margin_of_error(sample, confidence_level=0.95):\n",
        " # Calculate sample standard deviation\n",
        " sample_std = np.std(sample, ddof=1)  # Use sample standard deviation (Bessel's correction)\n",
        " n = len(sample)\n",
        "\n",
        " # Calculate standard error\n",
        " std_error = sample_std / np.sqrt(n)\n",
        "\n",
        " # Calculate critical value (t-distribution)\n",
        " critical_value = stats.t.ppf((1 + confidence_level) / 2, df=n - 1)\n",
        "\n",
        " # Calculate margin of error\n",
        " margin_of_error = critical_value * std_error\n",
        "\n",
        " return margin_of_error\n",
        "\n",
        "# Example usage\n",
        "sample = np.array([23, 21, 19, 24, 20, 22, 18, 25, 19, 21])\n",
        "confidence_level = 0.95\n",
        "margin_of_error = calculate_margin_of_error(sample, confidence_level)\n",
        "print(f\"Margin of Error at {confidence_level*100}% confidence level: {margin_of_error:.4f}\")\n"
      ],
      "metadata": {
        "id": "vQVZQehYb9CY"
      },
      "execution_count": null,
      "outputs": []
    },
    {
      "cell_type": "markdown",
      "source": [
        "11. Implement a Bayesian inference method using Bayes' Theorem in Python and explain the process."
      ],
      "metadata": {
        "id": "EVYAHEFWb9-2"
      }
    },
    {
      "cell_type": "code",
      "source": [
        "import numpy as np\n",
        "\n",
        "def bayes_theorem(prior_A, prob_B_given_A, prob_B):\n",
        " # Calculate the numerator of Bayes' Theorem\n",
        " numerator = prior_A * prob_B_given_A\n",
        "\n",
        " # Calculate the denominator of Bayes' Theorem\n",
        " denominator = prob_B\n",
        "\n",
        " # Calculate the posterior probability\n",
        " posterior_A_given_B = numerator / denominator\n",
        "\n",
        " return posterior_A_given_B\n",
        "\n",
        "# Example usage\n",
        "prior_A = 0.1  # Prior probability of hypothesis A (e.g., disease prevalence)\n",
        "prob_B_given_A = 0.9  # Probability of observing data B given hypothesis A (e.g., test accuracy)\n",
        "prob_B = 0.15  # Probability of observing data B (e.g., test results in the population)\n",
        "\n",
        "posterior_A_given_B = bayes_theorem(prior_A, prob_B_given_A, prob_B)\n",
        "print(f\"Posterior probability of A given B: {posterior_A_given_B:.4f}\")\n"
      ],
      "metadata": {
        "id": "KwQ8BMlRcD5M"
      },
      "execution_count": null,
      "outputs": []
    },
    {
      "cell_type": "markdown",
      "source": [
        "12. Perform a Chi-square test for independence between two categorical variables in Python."
      ],
      "metadata": {
        "id": "n0GFzuH7cTLE"
      }
    },
    {
      "cell_type": "code",
      "source": [
        "import numpy as np\n",
        "from scipy import stats\n",
        "\n",
        "# Sample data (contingency table)\n",
        "observed = np.array([[20, 15], [10, 25]])  # Rows represent categories of one variable, columns represent categories of another variable\n",
        "\n",
        "# Perform Chi-square test\n",
        "chi2_stat, p_value, dof, expected = stats.chi2_contingency(observed)\n",
        "\n",
        "# Print the results\n",
        "print(f\"Chi-square statistic: {chi2_stat:.4f}\")\n",
        "print(f\"P-value: {p_value:.4f}\")\n",
        "print(f\"Degrees of freedom: {dof}\")\n",
        "\n",
        "# Interpret the results\n",
        "alpha = 0.05\n",
        "if p_value < alpha:\n",
        " print(\"Reject the null hypothesis. The variables are likely dependent.\")\n",
        "else:\n",
        " print(\"Fail to reject the null hypothesis. The variables are likely independent.\")\n"
      ],
      "metadata": {
        "id": "O2c92maqcg72"
      },
      "execution_count": null,
      "outputs": []
    },
    {
      "cell_type": "markdown",
      "source": [
        "13. Write a Python program to calculate the expected frequencies for a Chi-square test based on observed\n",
        "data."
      ],
      "metadata": {
        "id": "cH0GfbpEcx8_"
      }
    },
    {
      "cell_type": "code",
      "source": [
        "import numpy as np\n",
        "\n",
        "def calculate_expected_frequencies(observed):\n",
        " # Calculate row and column totals\n",
        " row_totals = np.sum(observed, axis=1)\n",
        " col_totals = np.sum(observed, axis=0)\n",
        " grand_total = np.sum(observed)\n",
        "\n",
        " # Calculate expected frequencies\n",
        " expected = np.outer(row_totals, col_totals) / grand_total\n",
        "\n",
        " return expected\n",
        "\n",
        "# Example usage\n",
        "observed = np.array([[20, 15], [10, 25]])  # Contingency table\n",
        "expected = calculate_expected_frequencies(observed)\n",
        "print(\"Expected Frequencies:\")\n",
        "print(expected)\n",
        "\n"
      ],
      "metadata": {
        "id": "I4wgGQtRc6Gm"
      },
      "execution_count": null,
      "outputs": []
    },
    {
      "cell_type": "markdown",
      "source": [
        "14.  Perform a goodness-of-fit test using Python to compare the observed data to an expected distribution."
      ],
      "metadata": {
        "id": "_ttFQRZjdf89"
      }
    },
    {
      "cell_type": "code",
      "source": [
        "import numpy as np\n",
        "from scipy import stats\n",
        "\n",
        "# Observed data\n",
        "observed = np.array([16, 18, 16, 14, 12, 12])  # Frequencies for each category\n",
        "\n",
        "# Expected probabilities for each category (uniform distribution)\n",
        "expected_probabilities = np.array([1/6, 1/6, 1/6, 1/6, 1/6, 1/6])\n",
        "\n",
        "# Calculate expected frequencies\n",
        "total_observations = np.sum(observed)\n",
        "expected_frequencies = total_observations * expected_probabilities\n",
        "\n",
        "# Perform goodness-of-fit test\n",
        "chi2_stat, p_value = stats.chisquare(observed, expected_frequencies)\n",
        "\n",
        "# Print the results\n",
        "print(f\"Chi-square statistic: {chi2_stat:.4f}\")\n",
        "print(f\"P-value: {p_value:.4f}\")\n",
        "\n",
        "# Interpret the results\n",
        "alpha = 0.05\n",
        "if p_value < alpha:\n",
        " print(\"Reject the null hypothesis. The observed data does not fit the expected distribution.\")\n",
        "else:\n",
        " print(\"Fail to reject the null hypothesis. The observed data fits the expected distribution.\")\n",
        "\n"
      ],
      "metadata": {
        "id": "VmNPYDuzdoMk"
      },
      "execution_count": null,
      "outputs": []
    },
    {
      "cell_type": "markdown",
      "source": [
        "15. Create a Python script to simulate and visualize the Chi-square distribution and discuss its characteristics."
      ],
      "metadata": {
        "id": "ZFp6DCw-dyZF"
      }
    },
    {
      "cell_type": "code",
      "source": [
        "import numpy as np\n",
        "import matplotlib.pyplot as plt\n",
        "from scipy import stats\n",
        "\n",
        "# Set seed for reproducibility\n",
        "np.random.seed(0)\n",
        "\n",
        "# Define degrees of freedom\n",
        "df = 5\n",
        "\n",
        "# Simulate Chi-square distribution\n",
        "chi2_samples = np.random.chisquare(df, size=1000)\n",
        "\n",
        "# Plot histogram of simulated data\n",
        "plt.hist(chi2_samples, bins=30, density=True, alpha=0.5, label='Simulated Chi-square')\n",
        "\n",
        "# Plot theoretical Chi-square distribution\n",
        "x = np.linspace(0, 15, 100)\n",
        "y = stats.chi2.pdf(x, df)\n",
        "plt.plot(x, y, 'r-', label=f'Chi-square Distribution (df={df})')\n",
        "\n",
        "plt.xlabel('Value')\n",
        "plt.ylabel('Probability Density')\n",
        "plt.title('Chi-square Distribution Simulation')\n",
        "plt.legend()\n",
        "plt.show()\n",
        "\n",
        "# Calculate mean and variance\n",
        "mean = np.mean(chi2_samples)\n",
        "variance = np.var(chi2_samples)\n",
        "print(f\"Mean: {mean:.4f}\")\n",
        "print(f\"Variance: {variance:.4f}\")\n"
      ],
      "metadata": {
        "id": "LN4d97dAd8Ca"
      },
      "execution_count": null,
      "outputs": []
    },
    {
      "cell_type": "markdown",
      "source": [
        "16.  Implement an F-test using Python to compare the variances of two random samples."
      ],
      "metadata": {
        "id": "yYVVFeDDeIwt"
      }
    },
    {
      "cell_type": "code",
      "source": [
        "import numpy as np\n",
        "from scipy import stats\n",
        "\n",
        "# Sample data\n",
        "sample1 = np.array([23, 21, 19, 24, 20, 22, 18, 25, 19, 21])\n",
        "sample2 = np.array([20, 18, 16, 22, 17, 19, 15, 21, 16, 18])\n",
        "\n",
        "# Perform F-test\n",
        "f_stat, p_value = stats.f_oneway(sample1, sample2)\n",
        "\n",
        "# However, for comparing variances directly, we calculate F-statistic manually\n",
        "var1 = np.var(sample1, ddof=1)\n",
        "var2 = np.var(sample2, ddof=1)\n",
        "f_stat_manual = var1 / var2 if var1 > var2 else var2 / var1\n",
        "\n",
        "# Calculate p-value manually (two-tailed test)\n",
        "p_value_manual = 2 * (1 - stats.f.cdf(f_stat_manual, len(sample1) - 1, len(sample2) - 1))\n",
        "\n",
        "# Print the results\n",
        "print(f\"F-statistic (manual calculation): {f_stat_manual:.4f}\")\n",
        "print(f\"P-value (manual calculation): {p_value_manual:.4f}\")\n",
        "\n",
        "# Interpret the results\n",
        "alpha = 0.05\n",
        "if p_value_manual < alpha:\n",
        " print(\"Reject the null hypothesis. The variances are significantly different.\")\n",
        "else:\n",
        " print(\"Fail to reject the null hypothesis. The variances are not significantly different.\")\n"
      ],
      "metadata": {
        "id": "IPv0z4e8eO-S"
      },
      "execution_count": null,
      "outputs": []
    },
    {
      "cell_type": "markdown",
      "source": [
        "17. Write a Python program to perform an ANOVA test to compare means between multiple groups and\n",
        "interpret the results."
      ],
      "metadata": {
        "id": "FANfqNGve0Rv"
      }
    },
    {
      "cell_type": "code",
      "source": [
        "import numpy as np\n",
        "from scipy import stats\n",
        "\n",
        "# Sample data\n",
        "group1 = np.array([23, 21, 19, 24, 20])\n",
        "group2 = np.array([20, 18, 16, 22, 17])\n",
        "group3 = np.array([18, 15, 13, 19, 16])\n",
        "\n",
        "# Perform ANOVA test\n",
        "f_stat, p_value = stats.f_oneway(group1, group2, group3)\n",
        "\n",
        "# Print the results\n",
        "print(f\"F-statistic: {f_stat:.4f}\")\n",
        "print(f\"P-value: {p_value:.4f}\")\n",
        "\n",
        "# Interpret the results\n",
        "alpha = 0.05\n",
        "if p_value < alpha:\n",
        " print(\"Reject the null hypothesis. The means are significantly different.\")\n",
        "else:\n",
        " print(\"Fail to reject the null hypothesis. The means are not significantly different.\")\n",
        "\n"
      ],
      "metadata": {
        "id": "jCkeedJ1e7yd"
      },
      "execution_count": null,
      "outputs": []
    },
    {
      "cell_type": "markdown",
      "source": [
        "18. Perform a one-way ANOVA test using Python to compare the means of different groups and plot the results."
      ],
      "metadata": {
        "id": "CHe1DRo9fEFN"
      }
    },
    {
      "cell_type": "code",
      "source": [
        "import numpy as np\n",
        "from scipy import stats\n",
        "import matplotlib.pyplot as plt\n",
        "\n",
        "# Sample data\n",
        "np.random.seed(0)\n",
        "group1 = np.random.normal(loc=20, scale=3, size=10)\n",
        "group2 = np.random.normal(loc=22, scale=3, size=10)\n",
        "group3 = np.random.normal(loc=18, scale=3, size=10)\n",
        "\n",
        "# Perform one-way ANOVA test\n",
        "f_stat, p_value = stats.f_oneway(group1, group2, group3)\n",
        "\n",
        "# Print the results\n",
        "print(f\"F-statistic: {f_stat:.4f}\")\n",
        "print(f\"P-value: {p_value:.4f}\")\n",
        "\n",
        "# Interpret the results\n",
        "alpha = 0.05\n",
        "if p_value < alpha:\n",
        " print(\"Reject the null hypothesis. The means are significantly different.\")\n",
        "else:\n",
        " print(\"Fail to reject the null hypothesis. The means are not significantly different.\")\n",
        "\n",
        "# Plot the results\n",
        "plt.figure(figsize=(8, 6))\n",
        "plt.boxplot([group1, group2, group3], labels=['Group 1', 'Group 2', 'Group 3'])\n",
        "plt.title('Boxplot of Group Means')\n",
        "plt.ylabel('Value')\n",
        "plt.show()\n",
        "\n",
        "# Plot mean comparison\n",
        "means = [np.mean(group1), np.mean(group2), np.mean(group3)]\n",
        "plt.bar(['Group 1', 'Group 2', 'Group 3'], means)\n",
        "plt.title('Mean Comparison')\n",
        "plt.ylabel('Mean Value')\n",
        "plt.show()\n",
        "\n"
      ],
      "metadata": {
        "id": "VUKH85t7fKO6"
      },
      "execution_count": null,
      "outputs": []
    },
    {
      "cell_type": "markdown",
      "source": [
        "19. Write a Python function to check the assumptions (normality, independence, and equal variance) for ANOVA."
      ],
      "metadata": {
        "id": "qqocet7dfXLu"
      }
    },
    {
      "cell_type": "code",
      "source": [
        "import numpy as np\n",
        "from scipy import stats\n",
        "import matplotlib.pyplot as plt\n",
        "\n",
        "def check_anova_assumptions(data):\n",
        " # Normality assumption\n",
        " for i, group in enumerate(data):\n",
        " stat, p = stats.shapiro(group)\n",
        " print(f\"Group {i+1} Normality Test: Shapiro-Wilk statistic = {stat:.4f}, p-value = {p:.4f}\")\n",
        " if p < 0.05:\n",
        " print(f\"Group {i+1} does not appear to be normally distributed.\")\n",
        " else:\n",
        " print(f\"Group {i+1} appears to be normally distributed.\")\n",
        "\n",
        " # Equal variance assumption\n",
        " variances = [np.var(group, ddof=1) for group in data]\n",
        " stat, p = stats.levene(*data)\n",
        " print(f\"\\nLevene's Test for Equal Variances: statistic = {stat:.4f}, p-value = {p:.4f}\")\n",
        " if p < 0.05:\n",
        " print(\"The groups do not appear to have equal variances.\")\n",
        " else:\n",
        " print(\"The groups appear to have equal variances.\")\n",
        "\n",
        " # Independence assumption\n",
        " # Note: Independence is often assumed based on the study design and cannot be tested statistically.\n",
        " print(\"\\nIndependence assumption: This assumption is typically assessed based on the study design and data collection process.\")\n",
        "\n",
        " # Visualize the data\n",
        " plt.figure(figsize=(8, 6))\n",
        " plt.boxplot(data, labels=[f\"Group {i+1}\" for i in range(len(data))])\n",
        " plt.title('Boxplot of Groups')\n",
        " plt.show()\n",
        "\n",
        "# Example usage\n",
        "group1 = np.random.normal(loc=20, scale=3, size=10)\n",
        "group2 = np.random.normal(loc=22, scale=3, size=10)\n",
        "group3 = np.random.normal(loc=18, scale=3, size=10)\n",
        "data = [group1, group2, group3]\n",
        "check_anova_assumptions(data)\n"
      ],
      "metadata": {
        "id": "odYZ_qwQfdnU"
      },
      "execution_count": null,
      "outputs": []
    },
    {
      "cell_type": "markdown",
      "source": [
        "20. Perform a two-way ANOVA test using Python to study the interaction between two factors and visualize the\n",
        "results."
      ],
      "metadata": {
        "id": "wTSgPZTxfyMJ"
      }
    },
    {
      "cell_type": "code",
      "source": [
        "import numpy as np\n",
        "from statsmodels.formula.api import ols\n",
        "from statsmodels.stats.anova import anova_lm\n",
        "import pandas as pd\n",
        "import matplotlib.pyplot as plt\n",
        "import seaborn as sns\n",
        "\n",
        "# Sample data\n",
        "np.random.seed(0)\n",
        "factor1 = np.repeat(['A', 'B'], 30)\n",
        "factor2 = np.tile(['X', 'Y', 'Z'], 20)\n",
        "values = np.random.normal(loc=20, scale=5, size=60) + np.where(factor1 == 'A', 2, 0) + np.where(factor2 == 'Y', 3, 0)\n",
        "\n",
        "# Create a DataFrame\n",
        "data = pd.DataFrame({\n",
        " 'Factor1': factor1,\n",
        " 'Factor2': factor2,\n",
        " 'Values': values\n",
        "})\n",
        "\n",
        "# Perform two-way ANOVA test\n",
        "model = ols('Values ~ C(Factor1) + C(Factor2) + C(Factor1):C(Factor2)', data=data).fit()\n",
        "anova_table = anova_lm(model, typ=2)\n",
        "\n",
        "# Print the ANOVA table\n",
        "print(anova_table)\n",
        "\n",
        "# Visualize the results\n",
        "plt.figure(figsize=(8, 6))\n",
        "sns.boxplot(x='Factor2', y='Values', hue='Factor1', data=data)\n",
        "plt.title('Interaction Plot')\n",
        "plt.show()\n",
        "\n",
        "# Interaction plot using line plot\n",
        "plt.figure(figsize=(8, 6))\n",
        "sns.pointplot(x='Factor2', y='Values', hue='Factor1', data=data, ci=None)\n",
        "plt.title('Interaction Plot')\n",
        "plt.show()\n"
      ],
      "metadata": {
        "id": "sW12x0Mlf3V7"
      },
      "execution_count": null,
      "outputs": []
    },
    {
      "cell_type": "markdown",
      "source": [
        "21. Write a Python program to visualize the F-distribution and discuss its use in hypothesis testing."
      ],
      "metadata": {
        "id": "XFZysuZygOyS"
      }
    },
    {
      "cell_type": "code",
      "source": [
        "import numpy as np\n",
        "import matplotlib.pyplot as plt\n",
        "from scipy import stats\n",
        "\n",
        "# Define degrees of freedom\n",
        "df1 = 5\n",
        "df2 = 10\n",
        "\n",
        "# Generate x values\n",
        "x = np.linspace(0, 5, 100)\n",
        "\n",
        "# Calculate F-distribution PDF\n",
        "y = stats.f.pdf(x, df1, df2)\n",
        "\n",
        "# Plot F-distribution\n",
        "plt.plot(x, y, label=f'F-distribution (df1={df1}, df2={df2})')\n",
        "plt.xlabel('Value')\n",
        "plt.ylabel('Probability Density')\n",
        "plt.title('F-Distribution')\n",
        "plt.legend()\n",
        "plt.show()\n",
        "\n",
        "# Calculate critical value for a given significance level\n",
        "alpha = 0.05\n",
        "critical_value = stats.f.ppf(1 - alpha, df1, df2)\n",
        "print(f\"Critical value for alpha={alpha}: {critical_value:.4f}\")\n"
      ],
      "metadata": {
        "id": "tc8HiE6IgV0z"
      },
      "execution_count": null,
      "outputs": []
    },
    {
      "cell_type": "markdown",
      "source": [
        "22. Perform a one-way ANOVA test in Python and visualize the results with boxplots to compare group means."
      ],
      "metadata": {
        "id": "nk6Wa36Ag1Jj"
      }
    },
    {
      "cell_type": "code",
      "source": [
        "import numpy as np\n",
        "from scipy import stats\n",
        "import matplotlib.pyplot as plt\n",
        "\n",
        "# Sample data\n",
        "np.random.seed(0)\n",
        "group1 = np.random.normal(loc=20, scale=3, size=10)\n",
        "group2 = np.random.normal(loc=22, scale=3, size=10)\n",
        "group3 = np.random.normal(loc=18, scale=3, size=10)\n",
        "\n",
        "# Perform one-way ANOVA test\n",
        "f_stat, p_value = stats.f_oneway(group1, group2, group3)\n",
        "\n",
        "# Print the results\n",
        "print(f\"F-statistic: {f_stat:.4f}\")\n",
        "print(f\"P-value: {p_value:.4f}\")\n",
        "\n",
        "# Interpret the results\n",
        "alpha = 0.05\n",
        "if p_value < alpha:\n",
        " print(\"Reject the null hypothesis. The means are significantly different.\")\n",
        "else:\n",
        " print(\"Fail to reject the null hypothesis. The means are not significantly different.\")\n",
        "\n",
        "# Visualize the results with boxplots\n",
        "plt.figure(figsize=(8, 6))\n",
        "plt.boxplot([group1, group2, group3], labels=['Group 1', 'Group 2', 'Group 3'])\n",
        "plt.title('Boxplot of Group Means')\n",
        "plt.ylabel('Value')\n",
        "plt.show()\n"
      ],
      "metadata": {
        "id": "SbwJW9tCg866"
      },
      "execution_count": null,
      "outputs": []
    },
    {
      "cell_type": "markdown",
      "source": [
        "23.  Simulate random data from a normal distribution, then perform hypothesis testing to evaluate the means."
      ],
      "metadata": {
        "id": "jMM9R8qyhGrU"
      }
    },
    {
      "cell_type": "code",
      "source": [
        "import numpy as np\n",
        "from scipy import stats\n",
        "import matplotlib.pyplot as plt\n",
        "\n",
        "# Set seed for reproducibility\n",
        "np.random.seed(0)\n",
        "\n",
        "# Simulate data from a normal distribution\n",
        "mean1 = 20\n",
        "std_dev1 = 3\n",
        "sample_size1 = 30\n",
        "data1 = np.random.normal(mean1, std_dev1, sample_size1)\n",
        "\n",
        "mean2 = 22\n",
        "std_dev2 = 3\n",
        "sample_size2 = 30\n",
        "data2 = np.random.normal(mean2, std_dev2, sample_size2)\n",
        "\n",
        "# Perform two-sample t-test\n",
        "t_stat, p_value = stats.ttest_ind(data1, data2)\n",
        "\n",
        "# Print the results\n",
        "print(f\"T-statistic: {t_stat:.4f}\")\n",
        "print(f\"P-value: {p_value:.4f}\")\n",
        "\n",
        "# Interpret the results\n",
        "alpha = 0.05\n",
        "if p_value < alpha:\n",
        " print(\"Reject the null hypothesis. The means are significantly different.\")\n",
        "else:\n",
        " print(\"Fail to reject the null hypothesis. The means are not significantly different.\")\n",
        "\n",
        "# Visualize the data\n",
        "plt.figure(figsize=(8, 6))\n",
        "plt.hist(data1, alpha=0.5, label='Data 1', bins=10)\n",
        "plt.hist(data2, alpha=0.5, label='Data 2', bins=10)\n",
        "plt.legend()\n",
        "plt.title('Histogram of Simulated Data')\n",
        "plt.show()\n"
      ],
      "metadata": {
        "id": "o-7mVr4ghNwD"
      },
      "execution_count": null,
      "outputs": []
    },
    {
      "cell_type": "markdown",
      "source": [
        "24. Perform a hypothesis test for population variance using a Chi-square distribution and interpret the results."
      ],
      "metadata": {
        "id": "jCbRdznHhXwk"
      }
    },
    {
      "cell_type": "code",
      "source": [
        "import numpy as np\n",
        "from scipy import stats\n",
        "\n",
        "# Sample data\n",
        "np.random.seed(0)\n",
        "data = np.random.normal(loc=20, scale=3, size=30)\n",
        "\n",
        "# Null hypothesis: population variance is equal to 9 (sigma^2 = 9)\n",
        "sigma0_squared = 9\n",
        "\n",
        "# Calculate sample variance\n",
        "sample_variance = np.var(data, ddof=1)\n",
        "\n",
        "# Calculate Chi-square statistic\n",
        "n = len(data)\n",
        "chi2_stat = (n - 1) * sample_variance / sigma0_squared\n",
        "\n",
        "# Calculate P-value (two-tailed test)\n",
        "p_value = 2 * min(stats.chi2.cdf(chi2_stat, n - 1), 1 - stats.chi2.cdf(chi2_stat, n - 1))\n",
        "\n",
        "# Print the results\n",
        "print(f\"Chi-square statistic: {chi2_stat:.4f}\")\n",
        "print(f\"P-value: {p_value:.4f}\")\n",
        "\n",
        "# Interpret the results\n",
        "alpha = 0.05\n",
        "if p_value < alpha:\n",
        " print(\"Reject the null hypothesis. The population variance is significantly different from 9.\")\n",
        "else:\n",
        " print(\"Fail to reject the null hypothesis. The population variance is not significantly different from 9.\")\n"
      ],
      "metadata": {
        "id": "g9rRJoIzhcie"
      },
      "execution_count": null,
      "outputs": []
    },
    {
      "cell_type": "markdown",
      "source": [
        "25. Write a Python script to perform a Z-test for comparing proportions between two datasets or groups."
      ],
      "metadata": {
        "id": "Lg3MMJzbhllZ"
      }
    },
    {
      "cell_type": "code",
      "source": [
        "import numpy as np\n",
        "from scipy import stats\n",
        "\n",
        "# Sample data\n",
        "successes1 = 120  # Number of successes in group 1\n",
        "sample_size1 = 200  # Sample size of group 1\n",
        "successes2 = 100  # Number of successes in group 2\n",
        "sample_size2 = 250  # Sample size of group 2\n",
        "\n",
        "# Calculate proportions\n",
        "proportion1 = successes1 / sample_size1\n",
        "proportion2 = successes2 / sample_size2\n",
        "\n",
        "# Calculate pooled proportion\n",
        "pooled_proportion = (successes1 + successes2) / (sample_size1 + sample_size2)\n",
        "\n",
        "# Calculate standard error\n",
        "standard_error = np.sqrt(pooled_proportion * (1 - pooled_proportion) * (1/sample_size1 + 1/sample_size2))\n",
        "\n",
        "# Calculate Z-statistic\n",
        "z_statistic = (proportion1 - proportion2) / standard_error\n",
        "\n",
        "# Calculate P-value (two-tailed test)\n",
        "p_value = 2 * (1 - stats.norm.cdf(abs(z_statistic)))\n",
        "\n",
        "# Print the results\n",
        "print(f\"Z-statistic: {z_statistic:.4f}\")\n",
        "print(f\"P-value: {p_value:.4f}\")\n",
        "\n",
        "# Interpret the results\n",
        "alpha = 0.05\n",
        "if p_value < alpha:\n",
        " print(\"Reject the null hypothesis. The proportions are significantly different.\")\n",
        "else:\n",
        " print(\"Fail to reject the null hypothesis. The proportions are not significantly different.\")\n"
      ],
      "metadata": {
        "id": "Z96PqnBRhvEU"
      },
      "execution_count": null,
      "outputs": []
    },
    {
      "cell_type": "markdown",
      "source": [
        "26. Implement an F-test for comparing the variances of two datasets, then interpret and visualize the results."
      ],
      "metadata": {
        "id": "PJMF4CYsh9c1"
      }
    },
    {
      "cell_type": "code",
      "source": [
        "import numpy as np\n",
        "from scipy import stats\n",
        "import matplotlib.pyplot as plt\n",
        "\n",
        "# Sample data\n",
        "np.random.seed(0)\n",
        "data1 = np.random.normal(loc=20, scale=3, size=30)\n",
        "data2 = np.random.normal(loc=22, scale=4, size=30)\n",
        "\n",
        "# Perform F-test\n",
        "f_statistic, p_value = stats.f_oneway(data1, data2)\n",
        "\n",
        "# However, for comparing variances directly, we calculate F-statistic manually\n",
        "var1 = np.var(data1, ddof=1)\n",
        "var2 = np.var(data2, ddof=1)\n",
        "f_statistic_manual = var1 / var2 if var1 > var2 else var2 / var1\n",
        "\n",
        "# Calculate p-value manually (two-tailed test)\n",
        "p_value_manual = 2 * (1 - stats.f.cdf(f_statistic_manual, len(data1) - 1, len(data2) - 1))\n",
        "\n",
        "# Print the results\n",
        "print(f\"F-statistic (manual calculation): {f_statistic_manual:.4f}\")\n",
        "print(f\"P-value (manual calculation): {p_value_manual:.4f}\")\n",
        "\n",
        "# Interpret the results\n",
        "alpha = 0.05\n",
        "if p_value_manual < alpha:\n",
        " print(\"Reject the null hypothesis. The variances are significantly different.\")\n",
        "else:\n",
        " print(\"Fail to reject the null hypothesis. The variances are not significantly different.\")\n",
        "\n",
        "# Visualize the data\n",
        "plt.figure(figsize=(8, 6))\n",
        "plt.hist(data1, alpha=0.5, label='Data 1', bins=10)\n",
        "plt.hist(data2, alpha=0.5, label='Data 2', bins=10)\n",
        "plt.legend()\n",
        "plt.title('Histogram of Data')\n",
        "plt.show()\n",
        "\n",
        "# Boxplot visualization\n",
        "plt.figure(figsize=(8, 6))\n",
        "plt.boxplot([data1, data2], labels=['Data 1', 'Data 2'])\n",
        "plt.title('Boxplot of Data')\n",
        "plt.show()\n",
        "\n"
      ],
      "metadata": {
        "id": "iQwRrptGiDdG"
      },
      "execution_count": null,
      "outputs": []
    },
    {
      "cell_type": "markdown",
      "source": [
        "27. Perform a Chi-square test for goodness of fit with simulated data and analyze the results."
      ],
      "metadata": {
        "id": "G-J-VkPWiXDe"
      }
    },
    {
      "cell_type": "code",
      "source": [
        "import numpy as np\n",
        "from scipy import stats\n",
        "import matplotlib.pyplot as plt\n",
        "\n",
        "# Set seed for reproducibility\n",
        "np.random.seed(0)\n",
        "\n",
        "# Simulate data from a normal distribution\n",
        "mean = 20\n",
        "std_dev = 3\n",
        "sample_size = 100\n",
        "data = np.random.normal(mean, std_dev, sample_size)\n",
        "\n",
        "# Define bins for histogram\n",
        "bins = np.linspace(10, 30, 6)\n",
        "\n",
        "# Calculate observed frequencies\n",
        "observed_frequencies, _ = np.histogram(data, bins=bins)\n",
        "\n",
        "# Calculate expected frequencies under normal distribution\n",
        "expected_frequencies = sample_size * (stats.norm.cdf(bins[1:], mean, std_dev) - stats.norm.cdf(bins[:-1], mean, std_dev))\n",
        "\n",
        "# Perform Chi-square test\n",
        "The chi2_statistic, p_value = stats.chisquare(observed_frequencies, f_exp=expected_frequencies)\n",
        "\n",
        "# Print the results\n",
        "print(f\"Chi-square statistic: {chi2_statistic:.4f}\")\n",
        "print(f\"P-value: {p_value:.4f}\")\n",
        "\n",
        "# Interpret the results\n",
        "alpha = 0.05\n",
        "if p_value < alpha:\n",
        " print(\"Reject the null hypothesis. The data does not fit the normal distribution.\")\n",
        "else:\n",
        " print(\"Fail to reject the null hypothesis. The data fits the normal distribution.\")\n",
        "\n",
        "# Visualize the results\n",
        "plt.figure(figsize=(8, 6))\n",
        "plt.hist(data, bins=bins, alpha=0.5, label='Observed')\n",
        "plt.plot((bins[:-1] + bins[1:]) / 2, expected_frequencies, 'ro-', label='Expected')\n",
        "plt.legend()\n",
        "plt.title('Observed vs Expected Frequencies')\n",
        "plt.show()\n",
        "\n"
      ],
      "metadata": {
        "id": "mgOM-W12icnn"
      },
      "execution_count": null,
      "outputs": []
    }
  ]
}